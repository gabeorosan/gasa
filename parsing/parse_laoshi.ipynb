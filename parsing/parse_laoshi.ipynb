{
 "cells": [
  {
   "cell_type": "code",
   "execution_count": 35,
   "metadata": {},
   "outputs": [],
   "source": [
    "def corr_punc(text):\n",
    "    # Mapping of Korean punctuation to English equivalents\n",
    "    conversion_mapping = {\n",
    "        '\\u2026': '...', # Horizontal ellipsis\n",
    "        '\\u3001': ',',  # Ideographic comma\n",
    "        '\\u3002': '.',  # Ideographic full stop\n",
    "        '\\u00A0': ' ',  # No-Break Space\n",
    "        '\\u1680': ' ',  # Ogham Space Mark\n",
    "        '\\u180E': ' ',  # Mongolian Vowel Separator\n",
    "        '\\u2000': ' ',  # En Quad\n",
    "        '\\u2001': ' ',  # Em Quad\n",
    "        '\\u2002': ' ',  # En Space\n",
    "        '\\u2003': ' ',  # Em Space\n",
    "        '\\u2004': ' ',  # Three-Per-Em Space\n",
    "        '\\u2005': ' ',  # Four-Per-Em Space\n",
    "        '\\u2006': ' ',  # Six-Per-Em Space\n",
    "        '\\u2007': ' ',  # Figure Space\n",
    "        '\\u2008': ' ',  # Punctuation Space\n",
    "        '\\u2009': ' ',  # Thin Space\n",
    "        '\\u200A': ' ',  # Hair Space\n",
    "        '\\u200B': ' ',  # Zero Width Space\n",
    "        '\\u202F': ' ',  # Narrow No-Break Space\n",
    "        '\\u205F': ' ',  # Medium Mathematical Space\n",
    "        '\\u3000': ' ',  # Ideographic Space\n",
    "        '\\uFEFF': ' ',  # Zero Width No-Break Space\n",
    "        '\\u201C': '\"',  # Left double quotation mark\n",
    "        '\\u201D': '\"',  # Right double quotation mark\n",
    "        '\\u2018': \"'\",  # Left single quotation mark\n",
    "        '\\u2019': \"'\",  # Right single quotation mark\n",
    "        '\\u201A': \"'\",  # Single low-9 quotation mark\n",
    "        '\\u201B': \"'\",  # Single high-reversed-9 quotation mark\n",
    "        '\\u2032': \"'\",  # Prime (used to denote minutes or feet)\n",
    "        '\\u2035': \"'\",  # Reversed Prime (used to denote seconds or inches)\n",
    "        '\\u02BC': \"'\",  # Modifier letter apostrophe\n",
    "        '\\u02BB': \"'\",  # Modifier letter turned comma\n",
    "        '\\uFF07': \"'\",  # Fullwidth apostrophe\n",
    "    }\n",
    "\n",
    "    for special_char, english_char in conversion_mapping.items():\n",
    "        text = text.replace(special_char, english_char)\n",
    "    \n",
    "    text = re.sub(r' +', ' ', text)\n",
    "\n",
    "    return text"
   ]
  },
  {
   "cell_type": "code",
   "execution_count": 36,
   "metadata": {},
   "outputs": [
    {
     "name": "stdout",
     "output_type": "stream",
     "text": [
      "Original: 庞加莱 是 高斯 和 黎曼 之后\n",
      "Pinyin: pángjiālái shì gāosī hé límàn zhīhòu\n"
     ]
    }
   ],
   "source": [
    "from pypinyin import lazy_pinyin, Style\n",
    "\n",
    "def to_pinyin(sentence):\n",
    "    pinyin_result = []\n",
    "    for char in sentence:\n",
    "        if char == ' ':\n",
    "            pinyin_result.append(' ')\n",
    "        else:\n",
    "            char_pinyin = lazy_pinyin(char, style=Style.TONE, neutral_tone_with_five=True)\n",
    "            pinyin_result.append(char_pinyin[0])\n",
    "    pinyin_sentence = ''.join(pinyin_result)\n",
    "    return pinyin_sentence\n",
    "\n",
    "# Example usage:\n",
    "chinese_sentence = \"庞加莱 是 高斯 和 黎曼 之后\"\n",
    "pinyin_sentence = to_pinyin(chinese_sentence)\n",
    "\n",
    "print(\"Original:\", chinese_sentence)\n",
    "print(\"Pinyin:\", pinyin_sentence)\n",
    "\n"
   ]
  },
  {
   "cell_type": "code",
   "execution_count": 38,
   "metadata": {},
   "outputs": [],
   "source": [
    "import re\n",
    "import os\n",
    "import regex\n",
    "import json\n",
    "import jieba\n",
    "\n",
    "succ_ids = []\n",
    "folder_path = \"laoshi/\"\n",
    "\n",
    "def process_caption_line(line):\n",
    "    # Replace '</c>' followed by any character or number with a space\n",
    "    processed_line = re.sub(r'</c>.', ' ', line)\n",
    "    # Replace multiple spaces with a single space\n",
    "    processed_line = re.sub(r'\\s+', ' ', processed_line).strip()\n",
    "    return processed_line\n",
    "\n",
    "for filename in os.listdir(folder_path):\n",
    "    file_path = os.path.join(folder_path, filename)\n",
    "    if os.path.isfile(file_path) and file_path.endswith(\".vtt\"):\n",
    "\n",
    "        # Extract video ID from the file path\n",
    "        video_id = os.path.basename(file_path).split('.')[0]\n",
    "\n",
    "        # Read the caption file\n",
    "        with open(file_path, 'r', encoding='utf-8') as file:\n",
    "            captions = []\n",
    "            lines = file.readlines()\n",
    "            for i, line in enumerate(lines):\n",
    "                if '-->' in line:\n",
    "                    l = lines[i+1].strip()\n",
    "                    l = ' '.join(jieba.cut(l))\n",
    "                    l = corr_punc(l)\n",
    "                    captions.append(l)\n",
    "                    p = to_pinyin(l)\n",
    "                    captions.append(p)\n",
    "                \n",
    "        # Create a JSON object\n",
    "        caption_json = {\n",
    "            'video_id': video_id,\n",
    "            'captions': captions\n",
    "        }\n",
    "\n",
    "        # Optionally, you can save the JSON object to a file\n",
    "        with open(f'zh_captions/{video_id}.json', 'w', encoding='utf-8') as file:\n",
    "            json.dump(caption_json, file, ensure_ascii=False, indent=2)\n",
    "            succ_ids.append(video_id)\n"
   ]
  },
  {
   "cell_type": "code",
   "execution_count": 39,
   "metadata": {},
   "outputs": [
    {
     "data": {
      "text/plain": [
       "20"
      ]
     },
     "execution_count": 39,
     "metadata": {},
     "output_type": "execute_result"
    }
   ],
   "source": [
    "len(succ_ids)"
   ]
  }
 ],
 "metadata": {
  "kernelspec": {
   "display_name": "Python 3",
   "language": "python",
   "name": "python3"
  },
  "language_info": {
   "codemirror_mode": {
    "name": "ipython",
    "version": 3
   },
   "file_extension": ".py",
   "mimetype": "text/x-python",
   "name": "python",
   "nbconvert_exporter": "python",
   "pygments_lexer": "ipython3",
   "version": "3.11.2"
  },
  "orig_nbformat": 4
 },
 "nbformat": 4,
 "nbformat_minor": 2
}
