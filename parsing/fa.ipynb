{
 "cells": [
  {
   "cell_type": "code",
   "execution_count": 6,
   "metadata": {},
   "outputs": [],
   "source": [
    "with open('lyrics.txt', 'r') as file:\n",
    "    lines = file.readlines()\n",
    "\n",
    "with open('script.txt', 'w') as file:\n",
    "    for index, line in enumerate(lines):\n",
    "        formatted_line = f\"{index+1:05}\\t{line}\"\n",
    "        file.write(formatted_line)\n"
   ]
  },
  {
   "cell_type": "code",
   "execution_count": 3,
   "metadata": {},
   "outputs": [],
   "source": [
    "\n",
    "from transformers import AutoConfig, AutoModelForCTC, AutoProcessor"
   ]
  },
  {
   "cell_type": "code",
   "execution_count": 2,
   "metadata": {},
   "outputs": [],
   "source": [
    "import argparse\n",
    "import os\n",
    "from dataclasses import dataclass\n",
    "\n",
    "import torch\n",
    "import torchaudio\n",
    "from tqdm import tqdm\n"
   ]
  },
  {
   "cell_type": "code",
   "execution_count": 1,
   "metadata": {},
   "outputs": [
    {
     "ename": "ModuleNotFoundError",
     "evalue": "No module named 'model_handling'",
     "output_type": "error",
     "traceback": [
      "\u001b[0;31m---------------------------------------------------------------------------\u001b[0m",
      "\u001b[0;31mModuleNotFoundError\u001b[0m                       Traceback (most recent call last)",
      "Cell \u001b[0;32mIn[1], line 2\u001b[0m\n\u001b[1;32m      1\u001b[0m \u001b[39mfrom\u001b[39;00m \u001b[39mtransformers\u001b[39;00m \u001b[39mimport\u001b[39;00m AutoTokenizer, AutoFeatureExtractor\n\u001b[0;32m----> 2\u001b[0m \u001b[39mfrom\u001b[39;00m \u001b[39mmodel_handling\u001b[39;00m \u001b[39mimport\u001b[39;00m Wav2Vec2ForCTC\n\u001b[1;32m      4\u001b[0m model_path \u001b[39m=\u001b[39m \u001b[39m'\u001b[39m\u001b[39mnguyenvulebinh/lyric-alignment\u001b[39m\u001b[39m'\u001b[39m\n\u001b[1;32m      5\u001b[0m model \u001b[39m=\u001b[39m Wav2Vec2ForCTC\u001b[39m.\u001b[39mfrom_pretrained(model_path)\u001b[39m.\u001b[39meval()\n",
      "\u001b[0;31mModuleNotFoundError\u001b[0m: No module named 'model_handling'"
     ]
    }
   ],
   "source": [
    "from transformers import AutoTokenizer, AutoFeatureExtractor\n",
    "from model_handling import Wav2Vec2ForCTC\n",
    "\n",
    "model_path = 'nguyenvulebinh/lyric-alignment'\n",
    "model = Wav2Vec2ForCTC.from_pretrained(model_path).eval()\n",
    "tokenizer = AutoTokenizer.from_pretrained(model_path)\n",
    "feature_extractor = AutoFeatureExtractor.from_pretrained(model_path)\n",
    "vocab = [tokenizer.convert_ids_to_tokens(i) for i in range(len(tokenizer.get_vocab()))]\n"
   ]
  },
  {
   "cell_type": "code",
   "execution_count": null,
   "metadata": {},
   "outputs": [],
   "source": [
    "from predict import handle_sample\n",
    "import torchaudio\n",
    "import json\n",
    "\n",
    "# wav_path: path to audio file. Need to be 16k and single channel. \n",
    "# path_lyric: path to lyric data in json format, which includes list of segment and words\n",
    "wav, _ = torchaudio.load(wav_path)\n",
    "with open(path_lyric, 'r', encoding='utf-8') as file:\n",
    "    lyric_data = json.load(file)\n",
    "lyric_alignment = handle_sample(wav, lyric_data)\n"
   ]
  }
 ],
 "metadata": {
  "kernelspec": {
   "display_name": "Python 3",
   "language": "python",
   "name": "python3"
  },
  "language_info": {
   "codemirror_mode": {
    "name": "ipython",
    "version": 3
   },
   "file_extension": ".py",
   "mimetype": "text/x-python",
   "name": "python",
   "nbconvert_exporter": "python",
   "pygments_lexer": "ipython3",
   "version": "3.11.2"
  },
  "orig_nbformat": 4
 },
 "nbformat": 4,
 "nbformat_minor": 2
}
