{
 "cells": [
  {
   "cell_type": "code",
   "execution_count": 1,
   "metadata": {},
   "outputs": [],
   "source": [
    "import json\n",
    "import os\n",
    "\n",
    "title_to_path_mapping = {}\n",
    "\n",
    "# Function to process files in a given directory\n",
    "def process_directory(directory):\n",
    "    for filename in os.listdir(directory):\n",
    "        if filename.endswith(\".json\"):\n",
    "            filepath = os.path.join(directory, filename)\n",
    "            with open(filepath, 'r', encoding='utf-8') as file:\n",
    "                content = json.load(file)\n",
    "                title = content.get('title')\n",
    "                if title:\n",
    "                    title_to_path_mapping[title] = filepath\n",
    "\n",
    "# Process each directory\n",
    "process_directory('jp/')\n",
    "process_directory('zh/')\n",
    "process_directory('ko/')\n",
    "\n",
    "# Write the result to a new JSON file\n",
    "with open('title_to_path_mapping.json', 'w', encoding='utf-8') as file:\n",
    "    json.dump(title_to_path_mapping, file, ensure_ascii=False, indent=4)\n"
   ]
  },
  {
   "cell_type": "code",
   "execution_count": null,
   "metadata": {},
   "outputs": [],
   "source": []
  }
 ],
 "metadata": {
  "kernelspec": {
   "display_name": "Python 3",
   "language": "python",
   "name": "python3"
  },
  "language_info": {
   "codemirror_mode": {
    "name": "ipython",
    "version": 3
   },
   "file_extension": ".py",
   "mimetype": "text/x-python",
   "name": "python",
   "nbconvert_exporter": "python",
   "pygments_lexer": "ipython3",
   "version": "3.11.2"
  },
  "orig_nbformat": 4
 },
 "nbformat": 4,
 "nbformat_minor": 2
}
