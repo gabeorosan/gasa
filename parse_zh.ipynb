{
 "cells": [
  {
   "cell_type": "code",
   "execution_count": 20,
   "metadata": {},
   "outputs": [
    {
     "name": "stdout",
     "output_type": "stream",
     "text": [
      "Searching for songs by Vicky Chen...\n",
      "\n",
      "Changing artist name to '陳忻玥 (Vicky Chen)'\n",
      "Song 1: \"炙愛 - 女聲版 (Zhi Ai - Female Version)\"\n",
      "Song 2: \"煙幕 (Smokescreen)\"\n",
      "Song 3: \"You Like Me\"\n",
      "Song 4: \"Who I Am\"\n",
      "Song 5: \"Treasure\"\n",
      "Song 6: \"Painted A Picture\"\n",
      "Song 7: \"Baby\"\n",
      "Song 8: \"時間的輪 (I’ll Be Your Memory)\"\n",
      "Song 9: \"Just You And Me\"\n",
      "Song 10: \"Am I Who I Am\"\n",
      "Song 11: \"My Love Is Selfish\"\n",
      "Song 12: \"If You’re Really Gonna Leave Me\"\n",
      "Song 13: \"入土之前 (Rutu Zhiqian)\"\n",
      "Song 14: \"社會敗類 (Scum of Society)\"\n",
      "Song 15: \"Hands Up\"\n",
      "Song 16: \"Somewhere Between Asleep and Awake\"\n",
      "Song 17: \"猜 (Suspicion)\"\n",
      "Song 18: \"猜 (I Dare You)\"\n",
      "Song 19: \"Just You And Me (Unplugged)\"\n",
      "Song 20: \"Nobody Ever Wonders\"\n",
      "Done. Found 20 songs.\n",
      "Searching for songs by Wanting Qu...\n",
      "\n",
      "Changing artist name to '曲婉婷 (Qu Wanting)'\n",
      "Song 1: \"Drenched\"\n",
      "Song 2: \"Jar of Love\"\n",
      "Song 3: \"Love Struck Me Down\"\n",
      "Song 4: \"Everything In The World\"\n",
      "Song 5: \"Life Is Like a Song\"\n",
      "Song 6: \"Hand Hold\"\n",
      "Song 7: \"Life Is A Struggle\"\n",
      "Song 8: \"Star in You\"\n",
      "Song 9: \"Hideaway\"\n",
      "Song 10: \"Say The Words\"\n",
      "Song 11: \"Love Ocean (愛的海洋)\"\n",
      "Song 12: \"Us Under The Sunshine (陽光下的我們)\"\n",
      "Song 13: \"You Exist in My Song\"\n",
      "Song 14: \"Sing For You\"\n",
      "Song 15: \"Anxiety\"\n",
      "Song 16: \"Shine Over Me\"\n",
      "Song 17: \"When It’s Lonely (我為你歌唱 )\"\n",
      "Song 18: \"Not That Different\"\n",
      "Song 19: \"Admit\"\n",
      "Song 20: \"My Little Friend\"\n",
      "Song 21: \"Shell\"\n",
      "Song 22: \"Thrilled\"\n",
      "Song 23: \"Time, My Friend\"\n",
      "Song 24: \"Today\"\n",
      "Song 25: \"Are You Ready\"\n",
      "Song 26: \"Best Plan (最好的安排)\"\n",
      "Song 27: \"Nobody’s Fault\"\n",
      "Song 28: \"生命有一種絕對\"\n",
      "Song 29: \"Exit This Way\"\n",
      "Song 30: \"STHU\"\n",
      "Song 31: \"You Exist in My Song (Demo Version)\"\n",
      "Song 32: \"Untied\"\n",
      "Song 33: \"Joker Needs Laughter Too\"\n",
      "Song 34: \"You Can’t Hurt Me Anymore\"\n",
      "\"Mute\" is not valid. Skipping.\n",
      "Song 35: \"Wild Heart\"\n",
      "Song 36: \"Your Girl (婷兒)\"\n",
      "Song 37: \"Moon And Back\"\n",
      "Song 38: \"Wouldn’t It Be Nice\"\n",
      "Song 39: \"Set You Free\"\n",
      "Song 40: \"Distract You\"\n",
      "Song 41: \"Kissing Paradise\"\n",
      "Song 42: \"Make Love To This Song\"\n",
      "Song 43: \"Time, My Friend (Remix)\"\n",
      "Song 44: \"Afterglow\"\n",
      "\"Mute (Instrumental)\" is not valid. Skipping.\n",
      "Done. Found 44 songs.\n",
      "Searching for songs by Ele Yan...\n",
      "\n",
      "Changing artist name to 'El Doble y El Yandel'\n",
      "Song 1: \"Maquillaje\"\n",
      "Done. Found 1 songs.\n"
     ]
    },
    {
     "data": {
      "text/plain": [
       "65"
      ]
     },
     "execution_count": 20,
     "metadata": {},
     "output_type": "execute_result"
    }
   ],
   "source": [
    "artists = ['Vicky Chen',  'Wanting Qu']\n",
    "generate_txt(artists)"
   ]
  },
  {
   "cell_type": "code",
   "execution_count": 1,
   "metadata": {},
   "outputs": [],
   "source": [
    "from langtools import *\n",
    "folder_path = \"zh_lyrics/\""
   ]
  },
  {
   "cell_type": "code",
   "execution_count": 2,
   "metadata": {},
   "outputs": [
    {
     "name": "stderr",
     "output_type": "stream",
     "text": [
      "Building prefix dict from the default dictionary ...\n",
      "Loading model from cache /var/folders/6k/fgl7lw3x3l77p00ct2gx79580000gp/T/jieba.cache\n",
      "Loading model cost 0.815 seconds.\n",
      "Prefix dict has been built successfully.\n"
     ]
    },
    {
     "name": "stdout",
     "output_type": "stream",
     "text": [
      "10 Missing ids\n",
      "Total songs: 16\n"
     ]
    }
   ],
   "source": [
    "title_ids = read_title_ids()\n",
    "missing_ids = txt_json(folder_path, title_ids)"
   ]
  },
  {
   "cell_type": "code",
   "execution_count": 3,
   "metadata": {},
   "outputs": [
    {
     "name": "stdout",
     "output_type": "stream",
     "text": [
      "0 Missing ids\n",
      "Total songs: 16\n"
     ]
    },
    {
     "data": {
      "text/plain": [
       "[]"
      ]
     },
     "execution_count": 3,
     "metadata": {},
     "output_type": "execute_result"
    }
   ],
   "source": [
    "# loop through missing ids\n",
    "title_ids = update_missing(title_ids, missing_ids)\n",
    "txt_json(folder_path, title_ids)"
   ]
  }
 ],
 "metadata": {
  "kernelspec": {
   "display_name": "Python 3",
   "language": "python",
   "name": "python3"
  },
  "language_info": {
   "codemirror_mode": {
    "name": "ipython",
    "version": 3
   },
   "file_extension": ".py",
   "mimetype": "text/x-python",
   "name": "python",
   "nbconvert_exporter": "python",
   "pygments_lexer": "ipython3",
   "version": "3.11.2"
  },
  "orig_nbformat": 4
 },
 "nbformat": 4,
 "nbformat_minor": 2
}
